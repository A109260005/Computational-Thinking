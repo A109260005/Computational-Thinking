{
  "nbformat": 4,
  "nbformat_minor": 0,
  "metadata": {
    "colab": {
      "name": "鍾艿蓁-week10-隨堂練習.ipynb",
      "provenance": [],
      "authorship_tag": "ABX9TyOMDgLF8j7s8+Hr+u9loNHr",
      "include_colab_link": true
    },
    "kernelspec": {
      "name": "python3",
      "display_name": "Python 3"
    }
  },
  "cells": [
    {
      "cell_type": "markdown",
      "metadata": {
        "id": "view-in-github",
        "colab_type": "text"
      },
      "source": [
        "<a href=\"https://colab.research.google.com/github/A109260005/Computational-Thinking/blob/master/%E9%8D%BE%E8%89%BF%E8%93%81_week10_%E9%9A%A8%E5%A0%82%E7%B7%B4%E7%BF%92.ipynb\" target=\"_parent\"><img src=\"https://colab.research.google.com/assets/colab-badge.svg\" alt=\"Open In Colab\"/></a>"
      ]
    },
    {
      "cell_type": "code",
      "metadata": {
        "colab": {
          "base_uri": "https://localhost:8080/"
        },
        "id": "Lbd18tpWVJzY",
        "outputId": "d77aaced-1cd7-4e88-d303-a06d641c8814"
      },
      "source": [
        "movie_title =  \"money ball\"\n",
        "release_year = \"2011\"\n",
        "movie_rating = \"7.6\"\n",
        "director = \"Bennett miller\"\n",
        "\n",
        "print(\"computer english name\",movie_title)\n",
        "print(\"release time\",release_year)\n",
        "print(\"電影評分\",movie_rating)\n",
        "print(\"導演名\",director)\n",
        "\n"
      ],
      "execution_count": 12,
      "outputs": [
        {
          "output_type": "stream",
          "text": [
            "computer english name money ball\n",
            "release time 2011\n",
            "電影評分 7.6\n",
            "導演名 Bennett miller\n"
          ],
          "name": "stdout"
        }
      ]
    },
    {
      "cell_type": "code",
      "metadata": {
        "colab": {
          "base_uri": "https://localhost:8080/"
        },
        "id": "zfkRjfMDf2vV",
        "outputId": "a01e75fd-3f51-422e-f114-f512db36a7e1"
      },
      "source": [
        "# Input Data\n",
        "time = 123 \n",
        "\n",
        "hour = time //60 #商數\n",
        "minute = time %60\n",
        "\n",
        "# output\n",
        "\n",
        "print(time,\"是\",hour,\"小時\",minute,\"分鐘\")\n",
        "\n",
        "## Process\n",
        "\n",
        "hour1 = int (time/60)\n",
        "minute1 = ((time/60)-hour1)*60\n",
        "import math\n",
        "minute1 = round(minute1)\n",
        "\n",
        "print(time,\"是\",hour,\"小時\",minute,\"分鐘\")\n"
      ],
      "execution_count": 14,
      "outputs": [
        {
          "output_type": "stream",
          "text": [
            "123 是 2 小時 3 分鐘\n",
            "123 是 2 小時 3 分鐘\n"
          ],
          "name": "stdout"
        }
      ]
    }
  ]
}