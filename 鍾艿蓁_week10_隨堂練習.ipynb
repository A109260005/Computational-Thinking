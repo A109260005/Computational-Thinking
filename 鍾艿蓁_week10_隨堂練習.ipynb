{
  "nbformat": 4,
  "nbformat_minor": 0,
  "metadata": {
    "colab": {
      "name": "鍾艿蓁-week10-隨堂練習.ipynb",
      "provenance": [],
      "authorship_tag": "ABX9TyPa3tU92+pqDJaxC/99DCIi",
      "include_colab_link": true
    },
    "kernelspec": {
      "name": "python3",
      "display_name": "Python 3"
    }
  },
  "cells": [
    {
      "cell_type": "markdown",
      "metadata": {
        "id": "view-in-github",
        "colab_type": "text"
      },
      "source": [
        "<a href=\"https://colab.research.google.com/github/A109260005/Computational-Thinking/blob/master/%E9%8D%BE%E8%89%BF%E8%93%81_week10_%E9%9A%A8%E5%A0%82%E7%B7%B4%E7%BF%92.ipynb\" target=\"_parent\"><img src=\"https://colab.research.google.com/assets/colab-badge.svg\" alt=\"Open In Colab\"/></a>"
      ]
    },
    {
      "cell_type": "code",
      "metadata": {
        "colab": {
          "base_uri": "https://localhost:8080/"
        },
        "id": "Lbd18tpWVJzY",
        "outputId": "388f42c6-0884-4cdb-f0cb-9a9a9b549563"
      },
      "source": [
        "movie_title =  \"money ball\"\n",
        "release_year = \"2011\"\n",
        "movie_rating = \"7.6\"\n",
        "director = \"Bennett miller\"\n",
        "\n",
        "print(\"computer english name\",movie_title)\n",
        "print(\"release time\",release_year)\n",
        "print(\"電影評分\",movie_rating)\n",
        "print(\"導演名\",director)\n",
        "\n"
      ],
      "execution_count": 7,
      "outputs": [
        {
          "output_type": "stream",
          "text": [
            "computer english name money ball\n",
            "release time 2011\n",
            "電影評分 7.6\n",
            "導演名 Bennett miller\n"
          ],
          "name": "stdout"
        }
      ]
    }
  ]
}