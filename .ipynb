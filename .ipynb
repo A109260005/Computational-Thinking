{
  "nbformat": 4,
  "nbformat_minor": 0,
  "metadata": {
    "colab": {
      "name": "歡迎使用 Colaboratory",
      "provenance": [],
      "collapsed_sections": [],
      "toc_visible": true,
      "include_colab_link": true
    },
    "kernelspec": {
      "display_name": "Python 3",
      "name": "python3"
    }
  },
  "cells": [
    {
      "cell_type": "markdown",
      "metadata": {
        "id": "view-in-github",
        "colab_type": "text"
      },
      "source": [
        "<a href=\"https://colab.research.google.com/github/A109260005/Computational-Thinking/blob/master/.ipynb\" target=\"_parent\"><img src=\"https://colab.research.google.com/assets/colab-badge.svg\" alt=\"Open In Colab\"/></a>"
      ]
    },
    {
      "cell_type": "code",
      "metadata": {
        "id": "7y-qOZueY_Hu",
        "outputId": "71d2fd82-4f8c-4ff3-de64-79fa1be6412d",
        "colab": {
          "base_uri": "https://localhost:8080/"
        }
      },
      "source": [
        "# 鍾艿蓁-week 9-1.py\n",
        "# 變數賦值\n",
        "x = 2\n",
        "y = 5\n",
        "## 等號的左邊有什麼規定\n",
        "## 等號的右邊有什麼規定\n",
        "## 等號可以做什麼\n",
        "\n",
        "# 數字資料做運算\n",
        "## 加減乘除 商數餘數次方\n",
        "## 運算順序\n",
        "print(x+y)\n",
        "print(x-y)\n",
        "print(x*y)\n",
        "print(x/y)\n",
        "print(x//y)\n",
        "print(x%y)\n",
        "print(x ** y)\n"
      ],
      "execution_count": 3,
      "outputs": [
        {
          "output_type": "stream",
          "text": [
            "7\n",
            "-3\n",
            "10\n",
            "0.4\n",
            "0\n",
            "2\n",
            "32\n"
          ],
          "name": "stdout"
        }
      ]
    },
    {
      "cell_type": "code",
      "metadata": {
        "id": "JxABgetJZ7b2",
        "outputId": "48d2967f-187a-43b0-ffc7-599b4d2fef9d",
        "colab": {
          "base_uri": "https://localhost:8080/",
          "height": 52
        }
      },
      "source": [
        "input(\"請輸入數字\") \n"
      ],
      "execution_count": 6,
      "outputs": [
        {
          "output_type": "stream",
          "text": [
            "請輸入數字7\n"
          ],
          "name": "stdout"
        },
        {
          "output_type": "execute_result",
          "data": {
            "application/vnd.google.colaboratory.intrinsic+json": {
              "type": "string"
            },
            "text/plain": [
              "'7'"
            ]
          },
          "metadata": {
            "tags": []
          },
          "execution_count": 6
        }
      ]
    },
    {
      "cell_type": "code",
      "metadata": {
        "id": "Z2OKMCHpbCql",
        "outputId": "0fb530c0-7dba-4f94-829b-b88616b34e2c",
        "colab": {
          "base_uri": "https://localhost:8080/"
        }
      },
      "source": [
        "x = 3\n",
        "print(x)"
      ],
      "execution_count": 12,
      "outputs": [
        {
          "output_type": "stream",
          "text": [
            "3\n"
          ],
          "name": "stdout"
        }
      ]
    },
    {
      "cell_type": "code",
      "metadata": {
        "id": "JjfM25qha4o7",
        "outputId": "768444a4-c7a1-4cb6-953a-0c85cdbe22d7",
        "colab": {
          "base_uri": "https://localhost:8080/"
        }
      },
      "source": [
        "X = int(input(\"請輸入上衣的數量? \"))\n",
        "Y = int(input(\"請輸入褲子的數量? \"))\n",
        "Z = int(input(\"請輸入背心的數量?\"))\n",
        "\n",
        "Total = 300*X + 350*Y + 400*Z\n",
        "\n",
        "print(\"訂購服裝的總金額為\" , Total )"
      ],
      "execution_count": 14,
      "outputs": [
        {
          "output_type": "stream",
          "text": [
            "請輸入上衣的數量? 5\n",
            "請輸入褲子的數量? 5\n",
            "請輸入背心的數量?5\n",
            "訂購服裝的總金額為 5250\n"
          ],
          "name": "stdout"
        }
      ]
    },
    {
      "cell_type": "code",
      "metadata": {
        "id": "aKrDVccIg7ZA",
        "outputId": "3db0b248-d6d2-48a7-c6c8-6c95c8edf37a",
        "colab": {
          "base_uri": "https://localhost:8080/"
        }
      },
      "source": [
        "Cans = int(input(\"請輸入購買的飲料罐數?\"))\n",
        "Total = (Cans//12)*200 + (Cans%12)*20\n",
        "print (\"需花費\" ,Total)\n"
      ],
      "execution_count": 16,
      "outputs": [
        {
          "output_type": "stream",
          "text": [
            "請輸入購買的飲料罐數?5\n",
            "需花費 100\n"
          ],
          "name": "stdout"
        }
      ]
    },
    {
      "cell_type": "code",
      "metadata": {
        "id": "JIrsGOxFh4vm",
        "outputId": "e30b34f7-4256-4892-9777-ee75c5f018be",
        "colab": {
          "base_uri": "https://localhost:8080/"
        }
      },
      "source": [
        "first = int(input(\"請輸入第一次期中考成績? \"))\n"
      ],
      "execution_count": 24,
      "outputs": [
        {
          "output_type": "stream",
          "text": [
            "請輸入第一次期中考成績? 75\n"
          ],
          "name": "stdout"
        }
      ]
    },
    {
      "cell_type": "code",
      "metadata": {
        "id": "k97cm2DLmrp9",
        "outputId": "e708133f-54ab-4a2f-c8f9-1628e10a2dc9",
        "colab": {
          "base_uri": "https://localhost:8080/"
        }
      },
      "source": [
        "second = int(input(\"請輸入第二次期中考成績? \"))\n"
      ],
      "execution_count": 25,
      "outputs": [
        {
          "output_type": "stream",
          "text": [
            "請輸入第二次期中考成績? 80\n"
          ],
          "name": "stdout"
        }
      ]
    },
    {
      "cell_type": "code",
      "metadata": {
        "id": "tjBwy2bPmxcR",
        "outputId": "96f3b55b-2289-4a8e-969e-ab87b7e760c1",
        "colab": {
          "base_uri": "https://localhost:8080/"
        }
      },
      "source": [
        "final = int(input(\"請輸入第三次期中考成績? \"))"
      ],
      "execution_count": 27,
      "outputs": [
        {
          "output_type": "stream",
          "text": [
            "請輸入第三次期中考成績? 65\n"
          ],
          "name": "stdout"
        }
      ]
    },
    {
      "cell_type": "code",
      "metadata": {
        "id": "PXyDjvmMnSJE"
      },
      "source": [
        "total = first + second + final"
      ],
      "execution_count": 29,
      "outputs": []
    },
    {
      "cell_type": "code",
      "metadata": {
        "id": "u8ImLsWEnePW"
      },
      "source": [
        "average = total / 3"
      ],
      "execution_count": 30,
      "outputs": []
    },
    {
      "cell_type": "code",
      "metadata": {
        "id": "gat-veRsnkq8",
        "outputId": "3aa08a4f-7029-454c-d4a3-ec388054f32b",
        "colab": {
          "base_uri": "https://localhost:8080/",
          "height": 131
        }
      },
      "source": [
        "print(\"Total\"， total , \"Average\" , average)"
      ],
      "execution_count": 36,
      "outputs": [
        {
          "output_type": "error",
          "ename": "SyntaxError",
          "evalue": "ignored",
          "traceback": [
            "\u001b[0;36m  File \u001b[0;32m\"<ipython-input-36-ef6c0e93bc2f>\"\u001b[0;36m, line \u001b[0;32m1\u001b[0m\n\u001b[0;31m    print(\"Total\"， total , \"Average\" , average)\u001b[0m\n\u001b[0m                 ^\u001b[0m\n\u001b[0;31mSyntaxError\u001b[0m\u001b[0;31m:\u001b[0m invalid character in identifier\n"
          ]
        }
      ]
    }
  ]
}