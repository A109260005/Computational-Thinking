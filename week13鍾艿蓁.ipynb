{
  "nbformat": 4,
  "nbformat_minor": 0,
  "metadata": {
    "colab": {
      "name": "Untitled0.ipynb",
      "provenance": [],
      "authorship_tag": "ABX9TyM3OKIfz9lVYh5Cod12bcqo",
      "include_colab_link": true
    },
    "kernelspec": {
      "name": "python3",
      "display_name": "Python 3"
    }
  },
  "cells": [
    {
      "cell_type": "markdown",
      "metadata": {
        "id": "view-in-github",
        "colab_type": "text"
      },
      "source": [
        "<a href=\"https://colab.research.google.com/github/A109260005/Computational-Thinking/blob/master/week13%E9%8D%BE%E8%89%BF%E8%93%81.ipynb\" target=\"_parent\"><img src=\"https://colab.research.google.com/assets/colab-badge.svg\" alt=\"Open In Colab\"/></a>"
      ]
    },
    {
      "cell_type": "code",
      "metadata": {
        "colab": {
          "base_uri": "https://localhost:8080/"
        },
        "id": "TbjuOl3BksxP",
        "outputId": "dc1dcd45-d963-4398-c93a-b40aabfaea55"
      },
      "source": [
        "# 印出100個Hello\r\n",
        "for i in range(0,5,1):\r\n",
        "\r\n",
        " print(\"Hello\")"
      ],
      "execution_count": 10,
      "outputs": [
        {
          "output_type": "stream",
          "text": [
            "Hello\n",
            "Hello\n",
            "Hello\n",
            "Hello\n",
            "Hello\n"
          ],
          "name": "stdout"
        }
      ]
    },
    {
      "cell_type": "code",
      "metadata": {
        "colab": {
          "base_uri": "https://localhost:8080/"
        },
        "id": "amy9DACyk8Sb",
        "outputId": "5d02b71f-a329-4a22-a26a-55a1e7336b79"
      },
      "source": [
        "# [0,1,2,3,4,5]\r\n",
        "for i in range(0,5,1):\r\n",
        "  \r\n",
        "  print(i)\r\n",
        "\r\n",
        "\r\n"
      ],
      "execution_count": 13,
      "outputs": [
        {
          "output_type": "stream",
          "text": [
            "0\n",
            "1\n",
            "2\n",
            "3\n",
            "4\n"
          ],
          "name": "stdout"
        }
      ]
    },
    {
      "cell_type": "code",
      "metadata": {
        "colab": {
          "base_uri": "https://localhost:8080/"
        },
        "id": "IN7zzj-KlWqN",
        "outputId": "49a89016-a7ee-4923-8fff-27bd90bbf6e5"
      },
      "source": [
        "#[2,3,4,5]\r\n",
        "for i in range(2,6,1):\r\n",
        " print(i)\r\n"
      ],
      "execution_count": 14,
      "outputs": [
        {
          "output_type": "stream",
          "text": [
            "2\n",
            "3\n",
            "4\n",
            "5\n"
          ],
          "name": "stdout"
        }
      ]
    },
    {
      "cell_type": "code",
      "metadata": {
        "colab": {
          "base_uri": "https://localhost:8080/"
        },
        "id": "z87pPzTQmCPJ",
        "outputId": "5afa50ba-f7e7-4b12-90fc-3f6f4cb798ab"
      },
      "source": [
        "#[2,4,6,8]\r\n",
        "for i in range(2,10,2):\r\n",
        " print(i)\r\n",
        "\r\n",
        "#[100,97,94,91]\r\n",
        "for i in range(100, 90, -3):\r\n",
        " print(i)\r\n"
      ],
      "execution_count": 15,
      "outputs": [
        {
          "output_type": "stream",
          "text": [
            "2\n",
            "4\n",
            "6\n",
            "8\n",
            "100\n",
            "97\n",
            "94\n",
            "91\n"
          ],
          "name": "stdout"
        }
      ]
    }
  ]
}