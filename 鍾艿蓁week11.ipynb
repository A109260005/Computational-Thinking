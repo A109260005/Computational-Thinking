{
  "nbformat": 4,
  "nbformat_minor": 0,
  "metadata": {
    "colab": {
      "name": "鍾艿蓁week11.ipynb",
      "provenance": [],
      "authorship_tag": "ABX9TyP3FPL7gUNsuVypjnnj1853",
      "include_colab_link": true
    },
    "kernelspec": {
      "name": "python3",
      "display_name": "Python 3"
    }
  },
  "cells": [
    {
      "cell_type": "markdown",
      "metadata": {
        "id": "view-in-github",
        "colab_type": "text"
      },
      "source": [
        "<a href=\"https://colab.research.google.com/github/A109260005/Computational-Thinking/blob/master/%E9%8D%BE%E8%89%BF%E8%93%81week11.ipynb\" target=\"_parent\"><img src=\"https://colab.research.google.com/assets/colab-badge.svg\" alt=\"Open In Colab\"/></a>"
      ]
    },
    {
      "cell_type": "markdown",
      "metadata": {
        "id": "F_WJIrZlaYrs"
      },
      "source": [
        "分組"
      ]
    },
    {
      "cell_type": "code",
      "metadata": {
        "colab": {
          "base_uri": "https://localhost:8080/"
        },
        "id": "iCQHqmrAaifP",
        "outputId": "afb10960-d780-4418-cfe0-7fe94f644378"
      },
      "source": [
        "# 商數餘數\n",
        "## Input\n",
        "seat = int(input(\"Enter a seat number? \"))\n",
        "## Proces\n",
        "group = (seat - 1) // 5 + 1\n",
        "## output\n",
        "print(\"Group is\", group)"
      ],
      "execution_count": 2,
      "outputs": [
        {
          "output_type": "stream",
          "text": [
            "Enter a seat number? 19\n",
            "Group is 4\n"
          ],
          "name": "stdout"
        }
      ]
    },
    {
      "cell_type": "code",
      "metadata": {
        "colab": {
          "base_uri": "https://localhost:8080/"
        },
        "id": "7zTbLMfMak1W",
        "outputId": "40d84b93-b147-4f3e-f8a2-374900246c5c"
      },
      "source": [
        "# 四捨五入 無條件進位\n",
        "import math\n",
        "\n",
        "## Input\n",
        "seat = int(input(\"Enter a seat number? \"))\n",
        "\n",
        "## Process\n",
        "group = math.ceil(seat/5)\n",
        "\n",
        "## Output\n",
        "print(\"Group is\",group)\n"
      ],
      "execution_count": 3,
      "outputs": [
        {
          "output_type": "stream",
          "text": [
            "Enter a seat number? 19\n",
            "Group is 4\n"
          ],
          "name": "stdout"
        }
      ]
    },
    {
      "cell_type": "code",
      "metadata": {
        "colab": {
          "base_uri": "https://localhost:8080/"
        },
        "id": "SErVfJdPebpM",
        "outputId": "d6028248-19e4-41cb-dcc8-bddd482e4a61"
      },
      "source": [
        "# 方法(三) : 看餘數, 用條件句\n",
        "number = int(input(\"Enter a number? \"))\n",
        "if number%5 == 0:\n",
        "    print(\"Group is\" , number/5)\n",
        "else:\n",
        "  print(\"Group is\" , number/5 +1)    "
      ],
      "execution_count": 4,
      "outputs": [
        {
          "output_type": "stream",
          "text": [
            "Enter a number? 19\n",
            "Group is 4.8\n"
          ],
          "name": "stdout"
        }
      ]
    },
    {
      "cell_type": "markdown",
      "metadata": {
        "id": "UtLBmaIyip4C"
      },
      "source": [
        "對話機器人"
      ]
    },
    {
      "cell_type": "code",
      "metadata": {
        "colab": {
          "base_uri": "https://localhost:8080/"
        },
        "id": "kO3_1Y6knEq4",
        "outputId": "ab0a2480-54cf-48db-c0fd-95d823015cf5"
      },
      "source": [
        "print(\"哈囉 大家好 我叫zyxo64,是一個聊天機器人。\")\n",
        "\n",
        "hobby = \"我很喜歡美食東西，也喜歡養動物。今天很高興有機會來到世新大學\"\n",
        "print(hobby)\n",
        "\n",
        "# 打招呼， 取得對方名字\n",
        "name = input(\"嗨!你好，請問大名?: \")\n"
      ],
      "execution_count": 12,
      "outputs": [
        {
          "output_type": "stream",
          "text": [
            "哈囉 大家好 我叫zyxo64,是一個聊天機器人。\n",
            "我很喜歡美食東西，也喜歡養動物。今天很高興有機會來到世新大學\n",
            "嗨!你好，請問大名?: zx10\n"
          ],
          "name": "stdout"
        }
      ]
    },
    {
      "cell_type": "code",
      "metadata": {
        "id": "2hrfzyfRp_0_"
      },
      "source": [
        "# 從使用著取得今年年分\n",
        "year = input(\"請問一下今年是西元2020年，那是民國幾年呢?\")\n",
        "print(\"對!應該沒錯，謝謝你!\")\n",
        "# 請使用著猜年齡\n",
        "myage = int(input(\"在猜猜我今年幾歲?\"))\n",
        "print(\"哇!你好聰明，我今年的確\"， myage)\n",
        "# 計算聊天機器人滿100歲的年份\n",
        "nyears = 100 - myage\n",
        "print(\"我在\"， nyears， \"年就滿100歲了。\")\n",
        "print(\"到時候西元\"，  int(year) + nyears +1911， \"年\")"
      ],
      "execution_count": null,
      "outputs": []
    },
    {
      "cell_type": "code",
      "metadata": {
        "colab": {
          "base_uri": "https://localhost:8080/"
        },
        "id": "qOcNWwNJiw0X",
        "outputId": "15219606-cd96-4d70-9cd7-f1c5f026e3e3"
      },
      "source": [
        "#食物話題\n",
        "print(\"我喜歡巧克力,也喜歡嘗試各種新食物。\")\n",
        "food = input(\"你呢 你最喜歡的食物是甚麼? : \")\n",
        "print(\"我也喜歡\", food)\n",
        "question = \"你多久吃一次\" + food + \"?: \"\n",
        "howoften = input(question)\n",
        "print(\"真有趣 不知道這樣對健康好不好!\")"
      ],
      "execution_count": 10,
      "outputs": [
        {
          "output_type": "stream",
          "text": [
            "我喜歡巧克力,也喜歡嘗試各種新食物。\n",
            "你呢 你最喜歡的食物是甚麼? : apple\n",
            "我也喜歡 apple\n",
            "你多久吃一次apple?: one day\n",
            "真有趣 不知道這樣對健康好不好!\n"
          ],
          "name": "stdout"
        }
      ]
    }
  ]
}