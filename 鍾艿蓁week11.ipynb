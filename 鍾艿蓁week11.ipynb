{
  "nbformat": 4,
  "nbformat_minor": 0,
  "metadata": {
    "colab": {
      "name": "鍾艿蓁week11.ipynb",
      "provenance": [],
      "authorship_tag": "ABX9TyNMakicZF+dvv4udiGXBn78",
      "include_colab_link": true
    },
    "kernelspec": {
      "name": "python3",
      "display_name": "Python 3"
    }
  },
  "cells": [
    {
      "cell_type": "markdown",
      "metadata": {
        "id": "view-in-github",
        "colab_type": "text"
      },
      "source": [
        "<a href=\"https://colab.research.google.com/github/A109260005/Computational-Thinking/blob/master/%E9%8D%BE%E8%89%BF%E8%93%81week11.ipynb\" target=\"_parent\"><img src=\"https://colab.research.google.com/assets/colab-badge.svg\" alt=\"Open In Colab\"/></a>"
      ]
    },
    {
      "cell_type": "markdown",
      "metadata": {
        "id": "F_WJIrZlaYrs"
      },
      "source": [
        "分組"
      ]
    },
    {
      "cell_type": "code",
      "metadata": {
        "colab": {
          "base_uri": "https://localhost:8080/"
        },
        "id": "iCQHqmrAaifP",
        "outputId": "afb10960-d780-4418-cfe0-7fe94f644378"
      },
      "source": [
        "# 商數餘數\n",
        "## Input\n",
        "seat = int(input(\"Enter a seat number? \"))\n",
        "## Proces\n",
        "group = (seat - 1) // 5 + 1\n",
        "## output\n",
        "print(\"Group is\", group)"
      ],
      "execution_count": 2,
      "outputs": [
        {
          "output_type": "stream",
          "text": [
            "Enter a seat number? 19\n",
            "Group is 4\n"
          ],
          "name": "stdout"
        }
      ]
    },
    {
      "cell_type": "code",
      "metadata": {
        "colab": {
          "base_uri": "https://localhost:8080/"
        },
        "id": "7zTbLMfMak1W",
        "outputId": "40d84b93-b147-4f3e-f8a2-374900246c5c"
      },
      "source": [
        "# 四捨五入 無條件進位\n",
        "import math\n",
        "\n",
        "## Input\n",
        "seat = int(input(\"Enter a seat number? \"))\n",
        "\n",
        "## Process\n",
        "group = math.ceil(seat/5)\n",
        "\n",
        "## Output\n",
        "print(\"Group is\",group)\n"
      ],
      "execution_count": 3,
      "outputs": [
        {
          "output_type": "stream",
          "text": [
            "Enter a seat number? 19\n",
            "Group is 4\n"
          ],
          "name": "stdout"
        }
      ]
    },
    {
      "cell_type": "code",
      "metadata": {
        "colab": {
          "base_uri": "https://localhost:8080/"
        },
        "id": "SErVfJdPebpM",
        "outputId": "d6028248-19e4-41cb-dcc8-bddd482e4a61"
      },
      "source": [
        "# 方法(三) : 看餘數, 用條件句\n",
        "number = int(input(\"Enter a number? \"))\n",
        "if number%5 == 0:\n",
        "    print(\"Group is\" , number/5)\n",
        "else:\n",
        "  print(\"Group is\" , number/5 +1)    "
      ],
      "execution_count": 4,
      "outputs": [
        {
          "output_type": "stream",
          "text": [
            "Enter a number? 19\n",
            "Group is 4.8\n"
          ],
          "name": "stdout"
        }
      ]
    }
  ]
}