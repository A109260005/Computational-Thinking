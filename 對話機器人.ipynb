{
  "nbformat": 4,
  "nbformat_minor": 0,
  "metadata": {
    "colab": {
      "name": "「歡迎使用 Colaboratory」的副本",
      "provenance": [],
      "collapsed_sections": [],
      "toc_visible": true,
      "include_colab_link": true
    },
    "kernelspec": {
      "display_name": "Python 3",
      "name": "python3"
    }
  },
  "cells": [
    {
      "cell_type": "markdown",
      "metadata": {
        "id": "view-in-github",
        "colab_type": "text"
      },
      "source": [
        "<a href=\"https://colab.research.google.com/github/A109260005/Computational-Thinking/blob/master/%E5%B0%8D%E8%A9%B1%E6%A9%9F%E5%99%A8%E4%BA%BA.ipynb\" target=\"_parent\"><img src=\"https://colab.research.google.com/assets/colab-badge.svg\" alt=\"Open In Colab\"/></a>"
      ]
    },
    {
      "cell_type": "code",
      "metadata": {
        "id": "mxykO9ZpcE8m"
      },
      "source": [
        "#組員有Ａ１０９２６０"
      ],
      "execution_count": null,
      "outputs": []
    },
    {
      "cell_type": "code",
      "metadata": {
        "id": "lYL8K7IKToLG",
        "colab": {
          "base_uri": "https://localhost:8080/"
        },
        "outputId": "335d8d73-bc7d-45c8-f4c2-077fc320fa5a"
      },
      "source": [
        "#賣作物\n",
        "print(\"歡迎光臨農場，請問您要買什麼作物？\")\n",
        "print(\"我們有 蓮霧、芒果、柿子、草莓．\")\n",
        "fruit = input(\"請問您要哪一種:\")\n",
        "print(\"好的，為您準備\" +fruit+\".\" )\n",
        "quantity=input(\"請問\"+ fruit +\"數量要多少斤？\")\n",
        "print(\"好的,為您準備\"+quantity+ \"斤\" +fruit+\".\")\n",
        "print(\"謝謝光臨,歡迎下次光臨．\")"
      ],
      "execution_count": null,
      "outputs": [
        {
          "output_type": "stream",
          "text": [
            "歡迎光臨農場，請問您要買什麼作物？\n",
            "我們有 蓮霧、芒果、柿子、草莓．\n",
            "請問您要哪一種:草莓\n",
            "好的，為您準備草莓.\n",
            "請問草莓數量要多少斤？５\n",
            "好的,為您準備５斤草莓.\n",
            "謝謝光臨,歡迎下次光臨．\n"
          ],
          "name": "stdout"
        }
      ]
    }
  ]
}