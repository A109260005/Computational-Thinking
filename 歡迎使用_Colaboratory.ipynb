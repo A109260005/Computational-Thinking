{
  "nbformat": 4,
  "nbformat_minor": 0,
  "metadata": {
    "colab": {
      "name": "歡迎使用 Colaboratory",
      "provenance": [],
      "collapsed_sections": [],
      "toc_visible": true,
      "include_colab_link": true
    },
    "kernelspec": {
      "display_name": "Python 3",
      "name": "python3"
    }
  },
  "cells": [
    {
      "cell_type": "markdown",
      "metadata": {
        "id": "view-in-github",
        "colab_type": "text"
      },
      "source": [
        "<a href=\"https://colab.research.google.com/github/A109260005/Computational-Thinking/blob/master/%E6%AD%A1%E8%BF%8E%E4%BD%BF%E7%94%A8_Colaboratory.ipynb\" target=\"_parent\"><img src=\"https://colab.research.google.com/assets/colab-badge.svg\" alt=\"Open In Colab\"/></a>"
      ]
    },
    {
      "cell_type": "code",
      "metadata": {
        "id": "Hur6H56yNZk4",
        "outputId": "bed681bb-8a66-483f-aca4-319764ee0dfe",
        "colab": {
          "base_uri": "https://localhost:8080/"
        }
      },
      "source": [
        ">>> print(\"Hello My name is vita\")\n",
        "\n",
        ">>> name = \"vita\"\n",
        ">>> age = 18\n",
        ">>> mood = \"Happy\"\n",
        ">>> Story = \"你知道笑裡藏刀是什麼嘛  是哈哈哈哈哈刀哈哈哈哈哈\"\n",
        ">>> print(f\"Hi, My name is {name} and My age is {age} and I hear a funny story is {Story} \")"
      ],
      "execution_count": 10,
      "outputs": [
        {
          "output_type": "stream",
          "text": [
            "Hello My name is vita\n",
            "Hi, My name is vita and My age is 18 and I hear a funny story is 你知道笑裡藏刀是什麼嘛  是哈哈哈哈哈刀哈哈哈哈哈 \n"
          ],
          "name": "stdout"
        }
      ]
    }
  ]
}