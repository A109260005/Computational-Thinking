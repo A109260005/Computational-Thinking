{
  "nbformat": 4,
  "nbformat_minor": 0,
  "metadata": {
    "colab": {
      "name": "week12鍾艿蓁.ipynb",
      "provenance": [],
      "authorship_tag": "ABX9TyMl8haw3DETzFUyrsrMLIWp",
      "include_colab_link": true
    },
    "kernelspec": {
      "name": "python3",
      "display_name": "Python 3"
    }
  },
  "cells": [
    {
      "cell_type": "markdown",
      "metadata": {
        "id": "view-in-github",
        "colab_type": "text"
      },
      "source": [
        "<a href=\"https://colab.research.google.com/github/A109260005/Computational-Thinking/blob/master/week12%E9%8D%BE%E8%89%BF%E8%93%81.ipynb\" target=\"_parent\"><img src=\"https://colab.research.google.com/assets/colab-badge.svg\" alt=\"Open In Colab\"/></a>"
      ]
    },
    {
      "cell_type": "code",
      "metadata": {
        "colab": {
          "base_uri": "https://localhost:8080/"
        },
        "id": "1gdmYNkNWp9u",
        "outputId": "b5d6d492-e9a7-46f9-f9d0-b2a389d31f0f"
      },
      "source": [
        "\"\"\"\n",
        "\n",
        "隨堂練習1: 購物清單\n",
        "試著用串列列出你最愛的五樣東西，當成購物清單(shopping_list)\n",
        "\n",
        "\"\"\"\n",
        "list5= [\"牛奶\",\"蛋\",\"冰淇淋\",\"蔬菜\",\"泡麵\" ]\n",
        "print(list5)"
      ],
      "execution_count": 10,
      "outputs": [
        {
          "output_type": "stream",
          "text": [
            "['牛奶', '蛋', '冰淇淋', '蔬菜', '泡麵']\n"
          ],
          "name": "stdout"
        }
      ]
    },
    {
      "cell_type": "code",
      "metadata": {
        "colab": {
          "base_uri": "https://localhost:8080/"
        },
        "id": "pdRXl8myh-TJ",
        "outputId": "49783e5c-34ca-4f82-d19c-79427622a8a3"
      },
      "source": [
        "# NBA冠軍球隊的六筆資訊\n",
        "season = \"1995-1996\"\n",
        "team = \"chicago Bulls\"\n",
        "coach = \"Phil Jackson\"\n",
        "records = [72, 10]\n",
        "starting = [\"Ron Harper\",\"Michael Jordan\",\"Scottie Pippen\" ,\"Dennis Rodman\" ,\"LucLongley\"]\n",
        "champion = True\n",
        "\n",
        "# 變數best_NBA 賦值串列\n",
        "best_NBA = list ((season,team,coach,records,starting,champion))\n",
        "\n",
        "# TypeError: list expected at most 1 arguments, got 6 (要有兩個小括號)\n",
        "print(best_NBA)\n",
        "\n",
        "['1995-1996','Chicago Bulls','Phil Jackson', [72, 10],['Ron Harper', 'Michael Jordan', 'Scottie Pippen', 'Dennis Rodman',\n",
        "'Luc Longley'], True]\n",
        "\n",
        "print (type(best_NBA))\n",
        "\n",
        "\n",
        "\n",
        "# indexing 索引\n",
        "print(best_NBA[-2])\n",
        "['Ron Harper', 'Michael Jordan', 'Scottie Pippen', 'Dennis Rodman', 'Luc Longley']\n",
        "# slicing 切片\n",
        "print(best_NBA[1:4])\n",
        "['Chicago Bulls', 'Phil Jackson', [72, 10]]\n",
        "\n"
      ],
      "execution_count": 24,
      "outputs": [
        {
          "output_type": "stream",
          "text": [
            "['1995-1996', 'chicago Bulls', 'Phil Jackson', [72, 10], ['Ron Harper', 'Michael Jordan', 'Scottie Pippen', 'Dennis Rodman', 'LucLongley'], True]\n",
            "<class 'list'>\n",
            "['Ron Harper', 'Michael Jordan', 'Scottie Pippen', 'Dennis Rodman', 'LucLongley']\n",
            "['chicago Bulls', 'Phil Jackson', [72, 10]]\n"
          ],
          "name": "stdout"
        },
        {
          "output_type": "execute_result",
          "data": {
            "text/plain": [
              "['Chicago Bulls', 'Phil Jackson', [72, 10]]"
            ]
          },
          "metadata": {
            "tags": []
          },
          "execution_count": 24
        }
      ]
    },
    {
      "cell_type": "code",
      "metadata": {
        "colab": {
          "base_uri": "https://localhost:8080/"
        },
        "id": "cZjOnrZunzY_",
        "outputId": "7d875ad7-8c2c-42af-ab93-ae74d7b8c09e"
      },
      "source": [
        "# [0,1,2,3,4]\n",
        "a = range(5) # range(0,5,1)\n",
        "print(a)\n",
        "range(0, 5)\n",
        "print(a[0], a[1], a[2], a[3], a[4]) \n",
        "\n",
        "\n",
        "# [2,3,4,5]\n",
        "b = range(2, 6) #range(2,6,1)\n",
        "print(b[0], b[1], b[2], b[3])\n",
        "\n",
        "# [2,5,8]\n",
        "c = range(2, 10, 3)\n",
        "print(c[0], c[1], c[2])\n",
        "\n",
        "# [10,8,6,4]\n",
        "d = range(10, 3, -2)\n",
        "print(d[0], d[1], d[2], d[3])\n"
      ],
      "execution_count": 28,
      "outputs": [
        {
          "output_type": "stream",
          "text": [
            "range(0, 5)\n",
            "0 1 2 3 4\n",
            "2 3 4 5\n",
            "2 5 8\n",
            "10 8 6 4\n"
          ],
          "name": "stdout"
        }
      ]
    }
  ]
}